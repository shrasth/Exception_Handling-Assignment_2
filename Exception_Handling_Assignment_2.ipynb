{
 "cells": [
  {
   "cell_type": "markdown",
   "id": "d918e2de-167c-48d8-8fb1-3e1cdaefd523",
   "metadata": {},
   "source": [
    "**Q1. Explain why we have to use the Exception class while creating a Custom Exception.**\n",
    "Note: Here Exception class refers to the base class for all the exceptions."
   ]
  },
  {
   "cell_type": "markdown",
   "id": "a844fef5-403c-4a06-8b48-379d21703fe9",
   "metadata": {},
   "source": [
    "When creating custom exceptions in Python, we use the exceptiom class due to its consistency, compatibility and functionality to inherit from the built in classes or subclasses available."
   ]
  },
  {
   "cell_type": "code",
   "execution_count": null,
   "id": "043defd8-4d79-499c-9978-e5cb6e06f577",
   "metadata": {},
   "outputs": [],
   "source": []
  },
  {
   "cell_type": "markdown",
   "id": "ed05da3a-d76c-4de5-af34-60c310a9c443",
   "metadata": {},
   "source": [
    "**Q2. Write a python program to print Python Exception Hierarchy.**"
   ]
  },
  {
   "cell_type": "code",
   "execution_count": 2,
   "id": "ae7c7141-b2f5-4e6b-8912-ebaad2c498fd",
   "metadata": {},
   "outputs": [
    {
     "name": "stdout",
     "output_type": "stream",
     "text": [
      "No module named 'shra'\n"
     ]
    }
   ],
   "source": [
    "#Program to print Python Exception Hierarchy\n",
    "try:\n",
    "    import shra\n",
    "except ImportError as e:\n",
    "    print(e)"
   ]
  },
  {
   "cell_type": "code",
   "execution_count": null,
   "id": "85776436-2ebe-4132-b06c-c810337eac26",
   "metadata": {},
   "outputs": [],
   "source": []
  },
  {
   "cell_type": "markdown",
   "id": "208fff26-7058-487a-b0bd-aed49a9590f8",
   "metadata": {},
   "source": [
    "**Q3. What errors are defined in the ArithmeticError class? Explain any two with an example.**"
   ]
  },
  {
   "cell_type": "markdown",
   "id": "7e7629b5-b322-4c17-8a11-1ab380c4ea65",
   "metadata": {},
   "source": [
    "The ArithmeticError class in Python defines several errors related to arithmetic operations. Here are two examples of errors defined in the ArithmeticError class:\n",
    "\n",
    "1. ZeroDivisionError\n",
    "2. OverflowError"
   ]
  },
  {
   "cell_type": "markdown",
   "id": "ae4b62f4-3946-4fc5-8804-58bae5e1382b",
   "metadata": {},
   "source": [
    "**ZeroDivisionError**:\n",
    "\n",
    "This error occurs when a division or modulo operation is performed with zero as the divisor."
   ]
  },
  {
   "cell_type": "code",
   "execution_count": 4,
   "id": "5fbec8fe-a368-4e9b-96f9-cf6a4ee6def3",
   "metadata": {},
   "outputs": [
    {
     "name": "stdout",
     "output_type": "stream",
     "text": [
      "division by zero\n"
     ]
    }
   ],
   "source": [
    "##Example:\n",
    "\n",
    "try:\n",
    "    div = 10/0\n",
    "except ZeroDivisionError as e:\n",
    "    print(e)"
   ]
  },
  {
   "cell_type": "markdown",
   "id": "bfad66c0-7f73-469a-b7b8-c87575a4c13e",
   "metadata": {},
   "source": [
    "**OverflowError**:\n",
    "\n",
    "This error can also occur when performing operations with large integers that exceed the maximum value that can be represented."
   ]
  },
  {
   "cell_type": "code",
   "execution_count": 9,
   "id": "6ab51a8e-f048-41f7-bb47-c4a16e398429",
   "metadata": {},
   "outputs": [],
   "source": [
    "try:\n",
    "    num = 2**10000000\n",
    "except OverflowError as e:\n",
    "    print(e)"
   ]
  },
  {
   "cell_type": "code",
   "execution_count": null,
   "id": "641d0955-e87e-4328-9983-b9f95696a178",
   "metadata": {},
   "outputs": [],
   "source": []
  },
  {
   "cell_type": "markdown",
   "id": "3e853b84-2dab-4523-842a-0d5bf74dec86",
   "metadata": {},
   "source": [
    "**Q4. Why LookupError class is used? Explain with an example KeyError and IndexError.**"
   ]
  },
  {
   "cell_type": "markdown",
   "id": "53f41959-c6d3-402c-aa36-b3426f231c99",
   "metadata": {},
   "source": [
    "The LookupError class in Python is used as a base class for exceptions that occur when a lookup or indexing operation fails."
   ]
  },
  {
   "cell_type": "markdown",
   "id": "276f6bd2-2583-4f40-96f9-2e88ab7ba9f4",
   "metadata": {},
   "source": [
    "**KeyError**:\n",
    "\n",
    "This exception is raised when a dictionary key or a set element is not found during a lookup."
   ]
  },
  {
   "cell_type": "code",
   "execution_count": 13,
   "id": "de0c6b9e-6f78-4e13-bc87-c1efa6074fa0",
   "metadata": {},
   "outputs": [
    {
     "name": "stdout",
     "output_type": "stream",
     "text": [
      "error: 'key4'\n"
     ]
    }
   ],
   "source": [
    "#Example:\n",
    "\n",
    "try:\n",
    "    my_dict = {\"apple\": 1, \"banana\": 2, \"orange\": 3}\n",
    "    my_dict[\"key4\"]\n",
    "except KeyError as e:\n",
    "    print(f\"error: {e}\")"
   ]
  },
  {
   "cell_type": "markdown",
   "id": "9a027dce-3833-4e90-b308-d521639a0fab",
   "metadata": {},
   "source": [
    "**IndexError**:\n",
    "\n",
    "This exception is raised when a sequence (such as a list or a tuple) index is out of range."
   ]
  },
  {
   "cell_type": "code",
   "execution_count": 14,
   "id": "dbcef039-1e38-420b-a689-467ad4cac812",
   "metadata": {},
   "outputs": [
    {
     "name": "stdout",
     "output_type": "stream",
     "text": [
      "Error: list index out of range\n"
     ]
    }
   ],
   "source": [
    "#Example:\n",
    "\n",
    "try:\n",
    "    lis = [1,2,3]\n",
    "    lis[10]\n",
    "except IndexError as e:\n",
    "    print(f\"Error: {e}\")\n"
   ]
  },
  {
   "cell_type": "markdown",
   "id": "9f2b6990-414e-4c0c-908d-566a5a5030b7",
   "metadata": {},
   "source": [
    "**Q5. Explain ImportError. What is ModuleNotFoundError?**"
   ]
  },
  {
   "cell_type": "markdown",
   "id": "a379ffad-e8a9-443d-8b6e-4b6728a61a7c",
   "metadata": {},
   "source": [
    "**ImportError** is an exception class in Python that is raised when an import statement fails to import a module or a name.\n",
    "\n",
    "**ModuleNotFoundError** is a subclass of ImportError. It provides a more specific error message when a module cannot be found during import."
   ]
  },
  {
   "cell_type": "code",
   "execution_count": 15,
   "id": "e2f3ca78-3ad4-4184-9e1d-a9ae5f0153bc",
   "metadata": {},
   "outputs": [
    {
     "name": "stdout",
     "output_type": "stream",
     "text": [
      "Error: No module named 'shra'\n"
     ]
    }
   ],
   "source": [
    "#Example:\n",
    "try:\n",
    "    import shra\n",
    "except ImportError as e:\n",
    "    print(f\"Error: {e}\")"
   ]
  },
  {
   "cell_type": "markdown",
   "id": "a84d6ba4-a513-4907-899d-ee43004f3fab",
   "metadata": {},
   "source": [
    "**Q6. List down some best practices for exception handling in python.**"
   ]
  },
  {
   "cell_type": "markdown",
   "id": "2ae9ec60-5d1b-4800-bad5-7bd46aaaee92",
   "metadata": {},
   "source": [
    "Here are some best practices for exception handling in python\n",
    "\n",
    "1. Use always a specific exception\n",
    "2. Print always a valid message\n",
    "3. Avoid to write a multiple exception handling\n",
    "4. Prepare a proper documnetation\n",
    "5. Cleanup all the resources\n",
    "6. Always try to log the errors."
   ]
  },
  {
   "cell_type": "code",
   "execution_count": null,
   "id": "440a7c21-2cbf-43e4-9eb8-ba30b655d23a",
   "metadata": {},
   "outputs": [],
   "source": []
  }
 ],
 "metadata": {
  "kernelspec": {
   "display_name": "Python 3 (ipykernel)",
   "language": "python",
   "name": "python3"
  },
  "language_info": {
   "codemirror_mode": {
    "name": "ipython",
    "version": 3
   },
   "file_extension": ".py",
   "mimetype": "text/x-python",
   "name": "python",
   "nbconvert_exporter": "python",
   "pygments_lexer": "ipython3",
   "version": "3.10.8"
  }
 },
 "nbformat": 4,
 "nbformat_minor": 5
}
